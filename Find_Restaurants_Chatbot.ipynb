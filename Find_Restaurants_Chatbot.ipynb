{
 "cells": [
  {
   "cell_type": "markdown",
   "id": "955b4ce8-894e-4755-af9c-e0c5cdfe4535",
   "metadata": {},
   "source": [
    "## Restaurant Finder Chatbot\n"
   ]
  },
  {
   "cell_type": "markdown",
   "id": "0ce74d5c-5a23-4f9a-8314-c4da12033ed0",
   "metadata": {},
   "source": [
    "### This notebook demonstrates how to use the Gemini API to find restaurants based on location and cuisine.\n"
   ]
  },
  {
   "cell_type": "code",
   "execution_count": 1,
   "id": "8f17cb43-8af2-40e4-89d1-74e95de327a9",
   "metadata": {
    "tags": []
   },
   "outputs": [
    {
     "name": "stdout",
     "output_type": "stream",
     "text": [
      "Requirement already satisfied: google-cloud-aiplatform in /home/jupyter/.local/lib/python3.10/site-packages (1.51.0)\n",
      "Requirement already satisfied: google-api-core!=2.0.*,!=2.1.*,!=2.2.*,!=2.3.*,!=2.4.*,!=2.5.*,!=2.6.*,!=2.7.*,<3.0.0dev,>=1.34.1 in /home/jupyter/.local/lib/python3.10/site-packages (from google-api-core[grpc]!=2.0.*,!=2.1.*,!=2.2.*,!=2.3.*,!=2.4.*,!=2.5.*,!=2.6.*,!=2.7.*,<3.0.0dev,>=1.34.1->google-cloud-aiplatform) (2.19.0)\n",
      "Requirement already satisfied: google-auth<3.0.0dev,>=2.14.1 in /opt/conda/lib/python3.10/site-packages (from google-cloud-aiplatform) (2.29.0)\n",
      "Requirement already satisfied: proto-plus<2.0.0dev,>=1.22.0 in /opt/conda/lib/python3.10/site-packages (from google-cloud-aiplatform) (1.23.0)\n",
      "Requirement already satisfied: protobuf!=3.20.0,!=3.20.1,!=4.21.0,!=4.21.1,!=4.21.2,!=4.21.3,!=4.21.4,!=4.21.5,<5.0.0dev,>=3.19.5 in /home/jupyter/.local/lib/python3.10/site-packages (from google-cloud-aiplatform) (4.25.3)\n",
      "Requirement already satisfied: packaging>=14.3 in /opt/conda/lib/python3.10/site-packages (from google-cloud-aiplatform) (24.0)\n",
      "Requirement already satisfied: google-cloud-storage<3.0.0dev,>=1.32.0 in /opt/conda/lib/python3.10/site-packages (from google-cloud-aiplatform) (2.14.0)\n",
      "Requirement already satisfied: google-cloud-bigquery!=3.20.0,<4.0.0dev,>=1.15.0 in /home/jupyter/.local/lib/python3.10/site-packages (from google-cloud-aiplatform) (3.23.0)\n",
      "Requirement already satisfied: google-cloud-resource-manager<3.0.0dev,>=1.3.3 in /opt/conda/lib/python3.10/site-packages (from google-cloud-aiplatform) (1.12.3)\n",
      "Requirement already satisfied: shapely<3.0.0dev in /opt/conda/lib/python3.10/site-packages (from google-cloud-aiplatform) (2.0.4)\n",
      "Requirement already satisfied: pydantic<3 in /opt/conda/lib/python3.10/site-packages (from google-cloud-aiplatform) (1.10.15)\n",
      "Requirement already satisfied: docstring-parser<1 in /opt/conda/lib/python3.10/site-packages (from google-cloud-aiplatform) (0.16)\n",
      "Requirement already satisfied: googleapis-common-protos<2.0.dev0,>=1.56.2 in /opt/conda/lib/python3.10/site-packages (from google-api-core!=2.0.*,!=2.1.*,!=2.2.*,!=2.3.*,!=2.4.*,!=2.5.*,!=2.6.*,!=2.7.*,<3.0.0dev,>=1.34.1->google-api-core[grpc]!=2.0.*,!=2.1.*,!=2.2.*,!=2.3.*,!=2.4.*,!=2.5.*,!=2.6.*,!=2.7.*,<3.0.0dev,>=1.34.1->google-cloud-aiplatform) (1.63.0)\n",
      "Requirement already satisfied: requests<3.0.0.dev0,>=2.18.0 in /opt/conda/lib/python3.10/site-packages (from google-api-core!=2.0.*,!=2.1.*,!=2.2.*,!=2.3.*,!=2.4.*,!=2.5.*,!=2.6.*,!=2.7.*,<3.0.0dev,>=1.34.1->google-api-core[grpc]!=2.0.*,!=2.1.*,!=2.2.*,!=2.3.*,!=2.4.*,!=2.5.*,!=2.6.*,!=2.7.*,<3.0.0dev,>=1.34.1->google-cloud-aiplatform) (2.31.0)\n",
      "Requirement already satisfied: grpcio<2.0dev,>=1.33.2 in /opt/conda/lib/python3.10/site-packages (from google-api-core[grpc]!=2.0.*,!=2.1.*,!=2.2.*,!=2.3.*,!=2.4.*,!=2.5.*,!=2.6.*,!=2.7.*,<3.0.0dev,>=1.34.1->google-cloud-aiplatform) (1.48.1)\n",
      "Requirement already satisfied: grpcio-status<2.0.dev0,>=1.33.2 in /opt/conda/lib/python3.10/site-packages (from google-api-core[grpc]!=2.0.*,!=2.1.*,!=2.2.*,!=2.3.*,!=2.4.*,!=2.5.*,!=2.6.*,!=2.7.*,<3.0.0dev,>=1.34.1->google-cloud-aiplatform) (1.48.1)\n",
      "Requirement already satisfied: cachetools<6.0,>=2.0.0 in /opt/conda/lib/python3.10/site-packages (from google-auth<3.0.0dev,>=2.14.1->google-cloud-aiplatform) (4.2.4)\n",
      "Requirement already satisfied: pyasn1-modules>=0.2.1 in /opt/conda/lib/python3.10/site-packages (from google-auth<3.0.0dev,>=2.14.1->google-cloud-aiplatform) (0.4.0)\n",
      "Requirement already satisfied: rsa<5,>=3.1.4 in /opt/conda/lib/python3.10/site-packages (from google-auth<3.0.0dev,>=2.14.1->google-cloud-aiplatform) (4.9)\n",
      "Requirement already satisfied: google-cloud-core<3.0.0dev,>=1.6.0 in /opt/conda/lib/python3.10/site-packages (from google-cloud-bigquery!=3.20.0,<4.0.0dev,>=1.15.0->google-cloud-aiplatform) (2.4.1)\n",
      "Requirement already satisfied: google-resumable-media<3.0dev,>=0.6.0 in /opt/conda/lib/python3.10/site-packages (from google-cloud-bigquery!=3.20.0,<4.0.0dev,>=1.15.0->google-cloud-aiplatform) (2.7.0)\n",
      "Requirement already satisfied: python-dateutil<3.0dev,>=2.7.2 in /opt/conda/lib/python3.10/site-packages (from google-cloud-bigquery!=3.20.0,<4.0.0dev,>=1.15.0->google-cloud-aiplatform) (2.9.0)\n",
      "Requirement already satisfied: grpc-google-iam-v1<1.0.0dev,>=0.12.4 in /opt/conda/lib/python3.10/site-packages (from google-cloud-resource-manager<3.0.0dev,>=1.3.3->google-cloud-aiplatform) (0.12.7)\n",
      "Requirement already satisfied: google-crc32c<2.0dev,>=1.0 in /opt/conda/lib/python3.10/site-packages (from google-cloud-storage<3.0.0dev,>=1.32.0->google-cloud-aiplatform) (1.5.0)\n",
      "Requirement already satisfied: typing-extensions>=4.2.0 in /opt/conda/lib/python3.10/site-packages (from pydantic<3->google-cloud-aiplatform) (4.11.0)\n",
      "Requirement already satisfied: numpy<3,>=1.14 in /opt/conda/lib/python3.10/site-packages (from shapely<3.0.0dev->google-cloud-aiplatform) (1.24.4)\n",
      "Requirement already satisfied: six>=1.5.2 in /opt/conda/lib/python3.10/site-packages (from grpcio<2.0dev,>=1.33.2->google-api-core[grpc]!=2.0.*,!=2.1.*,!=2.2.*,!=2.3.*,!=2.4.*,!=2.5.*,!=2.6.*,!=2.7.*,<3.0.0dev,>=1.34.1->google-cloud-aiplatform) (1.16.0)\n",
      "Requirement already satisfied: pyasn1<0.7.0,>=0.4.6 in /opt/conda/lib/python3.10/site-packages (from pyasn1-modules>=0.2.1->google-auth<3.0.0dev,>=2.14.1->google-cloud-aiplatform) (0.6.0)\n",
      "Requirement already satisfied: charset-normalizer<4,>=2 in /opt/conda/lib/python3.10/site-packages (from requests<3.0.0.dev0,>=2.18.0->google-api-core!=2.0.*,!=2.1.*,!=2.2.*,!=2.3.*,!=2.4.*,!=2.5.*,!=2.6.*,!=2.7.*,<3.0.0dev,>=1.34.1->google-api-core[grpc]!=2.0.*,!=2.1.*,!=2.2.*,!=2.3.*,!=2.4.*,!=2.5.*,!=2.6.*,!=2.7.*,<3.0.0dev,>=1.34.1->google-cloud-aiplatform) (3.3.2)\n",
      "Requirement already satisfied: idna<4,>=2.5 in /opt/conda/lib/python3.10/site-packages (from requests<3.0.0.dev0,>=2.18.0->google-api-core!=2.0.*,!=2.1.*,!=2.2.*,!=2.3.*,!=2.4.*,!=2.5.*,!=2.6.*,!=2.7.*,<3.0.0dev,>=1.34.1->google-api-core[grpc]!=2.0.*,!=2.1.*,!=2.2.*,!=2.3.*,!=2.4.*,!=2.5.*,!=2.6.*,!=2.7.*,<3.0.0dev,>=1.34.1->google-cloud-aiplatform) (3.7)\n",
      "Requirement already satisfied: urllib3<3,>=1.21.1 in /opt/conda/lib/python3.10/site-packages (from requests<3.0.0.dev0,>=2.18.0->google-api-core!=2.0.*,!=2.1.*,!=2.2.*,!=2.3.*,!=2.4.*,!=2.5.*,!=2.6.*,!=2.7.*,<3.0.0dev,>=1.34.1->google-api-core[grpc]!=2.0.*,!=2.1.*,!=2.2.*,!=2.3.*,!=2.4.*,!=2.5.*,!=2.6.*,!=2.7.*,<3.0.0dev,>=1.34.1->google-cloud-aiplatform) (1.26.18)\n",
      "Requirement already satisfied: certifi>=2017.4.17 in /opt/conda/lib/python3.10/site-packages (from requests<3.0.0.dev0,>=2.18.0->google-api-core!=2.0.*,!=2.1.*,!=2.2.*,!=2.3.*,!=2.4.*,!=2.5.*,!=2.6.*,!=2.7.*,<3.0.0dev,>=1.34.1->google-api-core[grpc]!=2.0.*,!=2.1.*,!=2.2.*,!=2.3.*,!=2.4.*,!=2.5.*,!=2.6.*,!=2.7.*,<3.0.0dev,>=1.34.1->google-cloud-aiplatform) (2024.2.2)\n"
     ]
    }
   ],
   "source": [
    "!pip3 install --upgrade --user google-cloud-aiplatform"
   ]
  },
  {
   "cell_type": "code",
   "execution_count": 2,
   "id": "e7a72f15-721b-41f4-bb50-5d24461b6bbb",
   "metadata": {
    "tags": []
   },
   "outputs": [],
   "source": [
    "import sys\n",
    "\n",
    "if \"google.colab\" in sys.modules:\n",
    "    from google.colab import auth\n",
    "\n",
    "    auth.authenticate_user()"
   ]
  },
  {
   "cell_type": "markdown",
   "id": "91904ee2-2817-49f0-aeb3-e59c5890ff81",
   "metadata": {},
   "source": [
    "### Setup Google Cloud project information and initialize Vertex AI SDK\n"
   ]
  },
  {
   "cell_type": "markdown",
   "id": "a452bfb3-580d-4396-bed8-a468eb2ae546",
   "metadata": {},
   "source": [
    "### follow the link to to get your own project details by following the instructions in it. (https://www.cloudskillsboost.google/paths/236/course_templates/978/labs/461319 to get lab access)"
   ]
  },
  {
   "cell_type": "code",
   "execution_count": 3,
   "id": "21212592-a881-4a72-b346-08ea3a8eee7f",
   "metadata": {
    "tags": []
   },
   "outputs": [],
   "source": [
    "PROJECT_ID = \"qwiklabs-gcp-00-54d74cc52666\"  # @param {type:\"string\"}\n",
    "LOCATION = \"us-east4\"  # @param {type:\"string\"}\n",
    "\n",
    "import vertexai\n",
    "\n",
    "vertexai.init(project=PROJECT_ID, location=LOCATION)"
   ]
  },
  {
   "cell_type": "code",
   "execution_count": 4,
   "id": "1a35ebea-a9a5-458e-9522-04e73de2c3e9",
   "metadata": {
    "tags": []
   },
   "outputs": [],
   "source": [
    "import requests\n",
    "from vertexai.generative_models import (\n",
    "    Content,\n",
    "    FunctionDeclaration,\n",
    "    GenerationConfig,\n",
    "    GenerativeModel,\n",
    "    Part,\n",
    "    Tool,\n",
    ")"
   ]
  },
  {
   "cell_type": "markdown",
   "id": "bbb58a4a-0678-4b69-9dd0-b320fec3db3d",
   "metadata": {},
   "source": [
    "### Using Function Calling in a Chat Session to Answer Users' Questions About Restaurants of a Specific Cuisine in a Specific Location"
   ]
  },
  {
   "cell_type": "markdown",
   "id": "d20eb165-88cd-4a91-9d86-497300cb9d01",
   "metadata": {},
   "source": [
    "#### This is how the framework works: Define functions --> wrap functions in a tool --> call Gemini with a tools argument\r\n"
   ]
  },
  {
   "cell_type": "code",
   "execution_count": 5,
   "id": "b76a1175-0445-40ae-b503-3018ef91a42a",
   "metadata": {
    "tags": []
   },
   "outputs": [],
   "source": [
    "# Define function to check if there are any restaurants based on Cuisine in a specific location\n",
    "check_restaurants = FunctionDeclaration(\n",
    "    name=\"check_restaurants\",\n",
    "    description=\"Check if there are restaurants based on Cuisine in a specific location\",\n",
    "    parameters={\n",
    "        \"type\": \"object\",\n",
    "        \"properties\": {\n",
    "            \"location\": {\"type\": \"string\", \"description\": \"Location to search for restaurants\"},\n",
    "            \"cuisine\": {\"type\": \"string\", \"description\": \"Cuisine type\", \"default\": \"Indian\"}\n",
    "        },\n",
    "        \"required\": [\"location\"]\n",
    "    },\n",
    ")\n",
    "\n",
    "# Define function to find the best restaurant of user requested cuisine based on rating and number of reviews\n",
    "get_best_restaurant = FunctionDeclaration(\n",
    "    name=\"get_best_restaurant\",\n",
    "    description=\"Get the best restaurant of user requested cuisine based on rating and number of reviews\",\n",
    "    parameters={\n",
    "        \"type\": \"object\",\n",
    "        \"properties\": {\n",
    "            \"location\": {\"type\": \"string\", \"description\": \"Location to search for the best restaurant\"},\n",
    "            \"cuisine\": {\"type\": \"string\", \"description\": \"Cuisine type\", \"default\": \"Indian\"},\n",
    "            \"min_reviews\": {\"type\": \"integer\", \"description\": \"Minimum number of reviews\", \"default\": 100}\n",
    "        },\n",
    "        \"required\": [\"location\",\"cuisine\"]\n",
    "    },\n",
    ")"
   ]
  },
  {
   "cell_type": "code",
   "execution_count": 6,
   "id": "c6448e50-6ca8-40f6-8ad9-fd3cf96e4576",
   "metadata": {
    "tags": []
   },
   "outputs": [],
   "source": [
    "resta_tool = Tool(\n",
    "    function_declarations=[\n",
    "        check_restaurants,\n",
    "        get_best_restaurant\n",
    "    ],\n",
    ")"
   ]
  },
  {
   "cell_type": "markdown",
   "id": "e15471f1-c8be-4957-886e-1e188d2b284a",
   "metadata": {},
   "source": [
    "### Initialize the Gemini model with Function Calling"
   ]
  },
  {
   "cell_type": "code",
   "execution_count": 7,
   "id": "e99ad6b9-d8c7-4efc-bbdd-57a1b6bca9bf",
   "metadata": {
    "tags": []
   },
   "outputs": [],
   "source": [
    "model = GenerativeModel(\n",
    "    \"gemini-1.5-pro-preview-0409\",\n",
    "    generation_config=GenerationConfig(temperature=0),\n",
    "    tools=[resta_tool],\n",
    ")\n",
    "chat = model.start_chat()"
   ]
  },
  {
   "cell_type": "markdown",
   "id": "ea8521a3-cb40-4be5-9b42-fa3592e72398",
   "metadata": {},
   "source": [
    "### Using Yelp API to get the restaurants data"
   ]
  },
  {
   "cell_type": "code",
   "execution_count": 8,
   "id": "0cbc72af-352d-4648-a8ba-b953c066a8c9",
   "metadata": {
    "tags": []
   },
   "outputs": [],
   "source": [
    "# function to get the content via API\n",
    "def getcontent_via_api(location,cuisine):\n",
    "    url = 'https://api.yelp.com/v3/businesses/search'\n",
    "    api_key = \"YOUR_YELP_API_KEY\"\n",
    "\n",
    "    headers = {\n",
    "        \"accept\": \"application/json\",\n",
    "        \"Authorization\": \"Bearer \" + api_key,\n",
    "        \"User-Agent\": \"Mozilla/5.0 (Windows NT 10.0; Win64; x64) AppleWebKit/537.36 (KHTML, like Gecko) Chrome/58.0.3029.110 Safari/537.3\"\n",
    "    }\n",
    "\n",
    "    parameters = {\n",
    "            'location': location,\n",
    "            'term': cuisine,\n",
    "            'limit': 40\n",
    "        }\n",
    "    data = requests.get(url, headers=headers, params=parameters).json()\n",
    "    return data"
   ]
  },
  {
   "cell_type": "markdown",
   "id": "6d59c4a4-0c4c-4ebb-8d6f-f3203cfcc641",
   "metadata": {},
   "source": [
    "## Chat Session starts"
   ]
  },
  {
   "cell_type": "markdown",
   "id": "f9692300-9040-440a-b1cb-73732603e27b",
   "metadata": {},
   "source": [
    "### User Message "
   ]
  },
  {
   "cell_type": "code",
   "execution_count": 9,
   "id": "94579dfb-b62b-4038-9188-8319e24309f1",
   "metadata": {
    "tags": []
   },
   "outputs": [
    {
     "data": {
      "text/plain": [
       "function_call {\n",
       "  name: \"check_restaurants\"\n",
       "  args {\n",
       "    fields {\n",
       "      key: \"location\"\n",
       "      value {\n",
       "        string_value: \"Detroit, Michigan, USA\"\n",
       "      }\n",
       "    }\n",
       "    fields {\n",
       "      key: \"cuisine\"\n",
       "      value {\n",
       "        string_value: \"Indian\"\n",
       "      }\n",
       "    }\n",
       "  }\n",
       "}"
      ]
     },
     "execution_count": 9,
     "metadata": {},
     "output_type": "execute_result"
    }
   ],
   "source": [
    "prompt = \"\"\"\n",
    "Are there Indian restaurants in Detroit, Michigan, USA?\n",
    "\"\"\"\n",
    "\n",
    "response = chat.send_message(prompt)\n",
    "response.candidates[0].content.parts[0]"
   ]
  },
  {
   "cell_type": "markdown",
   "id": "0f385d62-f49d-4401-ab7a-6229432c2d64",
   "metadata": {},
   "source": [
    "### LLM Response "
   ]
  },
  {
   "cell_type": "code",
   "execution_count": 10,
   "id": "276f6fd9-4bbb-401d-969f-3a5f5afc224d",
   "metadata": {
    "tags": []
   },
   "outputs": [
    {
     "data": {
      "text/plain": [
       "text: \"Yes, there are many Indian restaurants in Detroit, Michigan.\\n\""
      ]
     },
     "execution_count": 10,
     "metadata": {},
     "output_type": "execute_result"
    }
   ],
   "source": [
    "# Extract the values\n",
    "response_part = response.candidates[0].content.parts[0].function_call.args\n",
    "location = response_part[\"location\"]\n",
    "cuisine = response_part[\"cuisine\"]\n",
    "\n",
    "\n",
    "response = chat.send_message(\n",
    "    Part.from_function_response(\n",
    "        name=\"Check_restaurants\",\n",
    "        response={\n",
    "            \"content\": getcontent_via_api(location,cuisine),\n",
    "        },\n",
    "    ),\n",
    ")\n",
    "response.candidates[0].content.parts[0]"
   ]
  },
  {
   "cell_type": "markdown",
   "id": "a49c8db1-db24-4724-b77f-93a2de2fe4a0",
   "metadata": {},
   "source": [
    "### User Message "
   ]
  },
  {
   "cell_type": "code",
   "execution_count": 11,
   "id": "08763b4f-aea1-451d-be8f-59252c96c3f7",
   "metadata": {
    "tags": []
   },
   "outputs": [
    {
     "data": {
      "text/plain": [
       "function_call {\n",
       "  name: \"get_best_restaurant\"\n",
       "  args {\n",
       "    fields {\n",
       "      key: \"location\"\n",
       "      value {\n",
       "        string_value: \"Detroit, Michigan, USA\"\n",
       "      }\n",
       "    }\n",
       "    fields {\n",
       "      key: \"cuisine\"\n",
       "      value {\n",
       "        string_value: \"Indian\"\n",
       "      }\n",
       "    }\n",
       "  }\n",
       "}"
      ]
     },
     "execution_count": 11,
     "metadata": {},
     "output_type": "execute_result"
    }
   ],
   "source": [
    "prompt = \"\"\"\n",
    "Which is the best Indian restaurant in Detroit, Michigan, USA?\n",
    "\"\"\"\n",
    "\n",
    "response = chat.send_message(prompt)\n",
    "response.candidates[0].content.parts[0]"
   ]
  },
  {
   "cell_type": "markdown",
   "id": "26025474-5667-42e9-911b-3cc931e05178",
   "metadata": {},
   "source": [
    "### LLM Response"
   ]
  },
  {
   "cell_type": "code",
   "execution_count": 12,
   "id": "3df99eb2-01c4-4e12-9a8b-74084bd6a807",
   "metadata": {
    "tags": []
   },
   "outputs": [
    {
     "data": {
      "text/plain": [
       "text: \"The Himalayan Flames in Dearborn has a 4.6 rating with 254 reviews. It\\'s located at 22266 Michigan Ave. \\n\""
      ]
     },
     "execution_count": 12,
     "metadata": {},
     "output_type": "execute_result"
    }
   ],
   "source": [
    "# Extract the values\n",
    "response_part = response.candidates[0].content.parts[0].function_call.args\n",
    "location = response_part[\"location\"]\n",
    "cuisine = response_part[\"cuisine\"]\n",
    "\n",
    "\n",
    "response = chat.send_message(\n",
    "    Part.from_function_response(\n",
    "        name=\"check_restaurants\",\n",
    "        response={\n",
    "            \"content\": getcontent_via_api(location,cuisine),\n",
    "        },\n",
    "    ),\n",
    ")\n",
    "response.candidates[0].content.parts[0]"
   ]
  },
  {
   "cell_type": "markdown",
   "id": "16b70ebd-b915-44a3-814e-6913939eeda5",
   "metadata": {},
   "source": [
    "### User Message and LLM instant Response because it can only deal with Restaurants"
   ]
  },
  {
   "cell_type": "code",
   "execution_count": 13,
   "id": "4430812e-3711-47bc-84e2-90d6df6bc639",
   "metadata": {
    "tags": []
   },
   "outputs": [
    {
     "data": {
      "text/plain": [
       "text: \"I am sorry, I cannot fulfill this request. The available tools lack the desired functionality. \\n\""
      ]
     },
     "execution_count": 13,
     "metadata": {},
     "output_type": "execute_result"
    }
   ],
   "source": [
    "prompt = \"\"\"\n",
    "Can you book an appointment in saloon?\n",
    "\"\"\"\n",
    "\n",
    "response = chat.send_message(prompt)\n",
    "response.candidates[0].content.parts[0]"
   ]
  },
  {
   "cell_type": "markdown",
   "id": "590b0dd1-8961-4b70-87b2-291e8fddc379",
   "metadata": {},
   "source": [
    "### User Message "
   ]
  },
  {
   "cell_type": "code",
   "execution_count": 14,
   "id": "04dd2aea-439b-4223-86da-ebbad323ebda",
   "metadata": {
    "tags": []
   },
   "outputs": [
    {
     "data": {
      "text/plain": [
       "function_call {\n",
       "  name: \"check_restaurants\"\n",
       "  args {\n",
       "    fields {\n",
       "      key: \"location\"\n",
       "      value {\n",
       "        string_value: \"Bowling Green, Ohio\"\n",
       "      }\n",
       "    }\n",
       "    fields {\n",
       "      key: \"cuisine\"\n",
       "      value {\n",
       "        string_value: \"Mexican\"\n",
       "      }\n",
       "    }\n",
       "  }\n",
       "}"
      ]
     },
     "execution_count": 14,
     "metadata": {},
     "output_type": "execute_result"
    }
   ],
   "source": [
    "prompt = \"\"\"\n",
    "Are there Mexican restaurants in Bowling Green, Ohio?\n",
    "\"\"\"\n",
    "\n",
    "response = chat.send_message(prompt)\n",
    "response.candidates[0].content.parts[0]"
   ]
  },
  {
   "cell_type": "markdown",
   "id": "86952f23-aea9-4bd4-822e-6251b9ea1430",
   "metadata": {},
   "source": [
    "### LLM Response"
   ]
  },
  {
   "cell_type": "code",
   "execution_count": 16,
   "id": "3bd41185-e568-4a24-927a-fd5f2b271996",
   "metadata": {
    "tags": []
   },
   "outputs": [
    {
     "data": {
      "text/plain": [
       "text: \"Yes, there are a few Mexican restaurants in Bowling Green, Ohio. \\n\""
      ]
     },
     "execution_count": 16,
     "metadata": {},
     "output_type": "execute_result"
    }
   ],
   "source": [
    "# Extract the values\n",
    "response_part = response.candidates[0].content.parts[0].function_call.args\n",
    "location = response_part[\"location\"]\n",
    "cuisine = response_part[\"cuisine\"]\n",
    "\n",
    "\n",
    "response = chat.send_message(\n",
    "    Part.from_function_response(\n",
    "        name=\"Check_restaurants\",\n",
    "        response={\n",
    "            \"content\": getcontent_via_api(location,cuisine),\n",
    "        },\n",
    "    ),\n",
    ")\n",
    "response.candidates[0].content.parts[0]"
   ]
  },
  {
   "cell_type": "markdown",
   "id": "c2bb47f1-6543-426b-abe2-c0461a461dc3",
   "metadata": {},
   "source": [
    "### User Message "
   ]
  },
  {
   "cell_type": "code",
   "execution_count": 17,
   "id": "27f0c6b7-2858-4126-9f31-763e9c0b02ed",
   "metadata": {
    "tags": []
   },
   "outputs": [
    {
     "data": {
      "text/plain": [
       "function_call {\n",
       "  name: \"get_best_restaurant\"\n",
       "  args {\n",
       "    fields {\n",
       "      key: \"location\"\n",
       "      value {\n",
       "        string_value: \"Bowling Green, Ohio\"\n",
       "      }\n",
       "    }\n",
       "    fields {\n",
       "      key: \"cuisine\"\n",
       "      value {\n",
       "        string_value: \"Mexican\"\n",
       "      }\n",
       "    }\n",
       "  }\n",
       "}"
      ]
     },
     "execution_count": 17,
     "metadata": {},
     "output_type": "execute_result"
    }
   ],
   "source": [
    "prompt = \"\"\"\n",
    "what are the best Mexican restaurants in Bowling Green, Ohio?\n",
    "\"\"\"\n",
    "\n",
    "response = chat.send_message(prompt)\n",
    "response.candidates[0].content.parts[0]"
   ]
  },
  {
   "cell_type": "markdown",
   "id": "6804beb1-617f-43b1-9830-e3d4bf22941e",
   "metadata": {},
   "source": [
    "### LLM Response"
   ]
  },
  {
   "cell_type": "code",
   "execution_count": 18,
   "id": "01bd3189-8c8e-4c77-b3f6-325e5ffffbac",
   "metadata": {
    "tags": []
   },
   "outputs": [
    {
     "data": {
      "text/plain": [
       "text: \"Guajillo\\'s Cocina Mexicana is the best rated, with 4.4 stars and 56 reviews. You can find it at 176 E Wooster St. \\n\""
      ]
     },
     "execution_count": 18,
     "metadata": {},
     "output_type": "execute_result"
    }
   ],
   "source": [
    "# Extract the values\n",
    "response_part = response.candidates[0].content.parts[0].function_call.args\n",
    "location = response_part[\"location\"]\n",
    "cuisine = response_part[\"cuisine\"]\n",
    "\n",
    "response = chat.send_message(\n",
    "    Part.from_function_response(\n",
    "        name=\"Check_restaurants\",\n",
    "        response={\n",
    "            \"content\": getcontent_via_api(location,cuisine),\n",
    "        },\n",
    "    ),\n",
    ")\n",
    "response.candidates[0].content.parts[0]"
   ]
  },
  {
   "cell_type": "markdown",
   "id": "d7321c98-cb99-4477-9dc6-aa020cafb3b3",
   "metadata": {},
   "source": [
    "### User Message "
   ]
  },
  {
   "cell_type": "code",
   "execution_count": 19,
   "id": "930ac140-09a9-4255-8439-959a5fcf86b7",
   "metadata": {
    "tags": []
   },
   "outputs": [
    {
     "data": {
      "text/plain": [
       "function_call {\n",
       "  name: \"check_restaurants\"\n",
       "  args {\n",
       "    fields {\n",
       "      key: \"location\"\n",
       "      value {\n",
       "        string_value: \"Bowling Green, Ohio\"\n",
       "      }\n",
       "    }\n",
       "    fields {\n",
       "      key: \"cuisine\"\n",
       "      value {\n",
       "        string_value: \"Indian\"\n",
       "      }\n",
       "    }\n",
       "  }\n",
       "}"
      ]
     },
     "execution_count": 19,
     "metadata": {},
     "output_type": "execute_result"
    }
   ],
   "source": [
    "prompt = \"\"\"\n",
    "are there Indian restaurants in Bowling Green, Ohio?\n",
    "\"\"\"\n",
    "\n",
    "response = chat.send_message(prompt)\n",
    "response.candidates[0].content.parts[0]"
   ]
  },
  {
   "cell_type": "markdown",
   "id": "d1c46c4c-ae0b-4869-bb0c-be4e28e3e928",
   "metadata": {},
   "source": [
    "### LLM Response"
   ]
  },
  {
   "cell_type": "code",
   "execution_count": 20,
   "id": "7316b8ae-8c78-44e1-9969-9ed68993c757",
   "metadata": {
    "tags": []
   },
   "outputs": [
    {
     "data": {
      "text/plain": [
       "text: \"There are no Indian restaurants in Bowling Green, Ohio. The closest options would be in Toledo, Ohio. \\n\""
      ]
     },
     "execution_count": 20,
     "metadata": {},
     "output_type": "execute_result"
    }
   ],
   "source": [
    "# Extract the values\n",
    "response_part = response.candidates[0].content.parts[0].function_call.args\n",
    "location = response_part[\"location\"]\n",
    "cuisine = response_part[\"cuisine\"]\n",
    "\n",
    "response = chat.send_message(\n",
    "    Part.from_function_response(\n",
    "        name=\"Check_restaurants\",\n",
    "        response={\n",
    "            \"content\": getcontent_via_api(location,cuisine),\n",
    "        },\n",
    "    ),\n",
    ")\n",
    "response.candidates[0].content.parts[0]"
   ]
  }
 ],
 "metadata": {
  "environment": {
   "kernel": "python3",
   "name": "tf2-cpu.2-15.m120",
   "type": "gcloud",
   "uri": "us-docker.pkg.dev/deeplearning-platform-release/gcr.io/tf2-cpu.2-15:m120"
  },
  "kernelspec": {
   "display_name": "Python 3 (ipykernel)",
   "language": "python",
   "name": "python3"
  },
  "language_info": {
   "codemirror_mode": {
    "name": "ipython",
    "version": 3
   },
   "file_extension": ".py",
   "mimetype": "text/x-python",
   "name": "python",
   "nbconvert_exporter": "python",
   "pygments_lexer": "ipython3",
   "version": "3.11.7"
  }
 },
 "nbformat": 4,
 "nbformat_minor": 5
}
